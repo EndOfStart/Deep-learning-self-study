{
 "cells": [
  {
   "cell_type": "code",
   "execution_count": 1,
   "id": "0d0fbd5d",
   "metadata": {
    "ExecuteTime": {
     "end_time": "2021-07-15T14:22:06.770068Z",
     "start_time": "2021-07-15T14:22:06.523801Z"
    }
   },
   "outputs": [],
   "source": [
    "%matplotlib inline"
   ]
  },
  {
   "cell_type": "markdown",
   "id": "82bf931d",
   "metadata": {},
   "source": [
    "# Kaggle 대회 코드 모방하며 공부하기"
   ]
  },
  {
   "cell_type": "markdown",
   "id": "0cdcb57f",
   "metadata": {},
   "source": [
    "## 파일 확인"
   ]
  },
  {
   "cell_type": "code",
   "execution_count": 4,
   "id": "27a70312",
   "metadata": {
    "ExecuteTime": {
     "end_time": "2021-07-15T14:33:27.799818Z",
     "start_time": "2021-07-15T14:33:27.791804Z"
    }
   },
   "outputs": [
    {
     "name": "stdout",
     "output_type": "stream",
     "text": [
      "./kaggle/dogs-vs-cats_800MB\\sampleSubmission.csv\n",
      "./kaggle/dogs-vs-cats_800MB\\test1.zip\n",
      "./kaggle/dogs-vs-cats_800MB\\train.zip\n"
     ]
    }
   ],
   "source": [
    "import os\n",
    "\n",
    "# os.walk 함수\n",
    "# return value : path, path/folders, path/files\n",
    "# dirname은 경로, dirname 아래 있는 폴더들, dirname 아래 있는 파일들\n",
    "for dirname, folders, files in os.walk('./kaggle/dogs-vs-cats_800MB'):\n",
    "    for file in files:\n",
    "        print(os.path.join(dirname, file))"
   ]
  },
  {
   "cell_type": "markdown",
   "id": "a7d6a6ba",
   "metadata": {},
   "source": [
    "## 압축해제"
   ]
  },
  {
   "cell_type": "code",
   "execution_count": 9,
   "id": "729f5050",
   "metadata": {
    "ExecuteTime": {
     "end_time": "2021-07-15T14:44:02.801235Z",
     "start_time": "2021-07-15T14:43:22.440860Z"
    }
   },
   "outputs": [],
   "source": [
    "from zipfile import ZipFile\n",
    "\n",
    "# extractall(path) : default는 현재 작업 directory에 압축해제\n",
    "# path = 압축해제할 경로\n",
    "ZipFile('./kaggle/dogs-vs-cats_800MB/train.zip', 'r').extractall('./kaggle/dogs-vs-cats_800MB/')\n",
    "ZipFile('./kaggle/dogs-vs-cats_800MB/test1.zip', 'r').extractall('./kaggle/dogs-vs-cats_800MB/')"
   ]
  },
  {
   "cell_type": "markdown",
   "id": "109ab853",
   "metadata": {},
   "source": [
    "## 경로 설정"
   ]
  },
  {
   "cell_type": "code",
   "execution_count": 11,
   "id": "7232d86f",
   "metadata": {
    "ExecuteTime": {
     "end_time": "2021-07-15T14:47:47.495222Z",
     "start_time": "2021-07-15T14:47:47.479223Z"
    }
   },
   "outputs": [],
   "source": [
    "train_path = './kaggle/dogs-vs-cats_800MB/train'\n",
    "test_path = './kaggle/dogs-vs-cats_800MB/test'"
   ]
  },
  {
   "cell_type": "markdown",
   "id": "36917505",
   "metadata": {},
   "source": [
    "## 이미지 가져오기"
   ]
  },
  {
   "cell_type": "code",
   "execution_count": 15,
   "id": "74d1eb67",
   "metadata": {
    "ExecuteTime": {
     "end_time": "2021-07-15T14:50:04.557364Z",
     "start_time": "2021-07-15T14:50:04.493283Z"
    }
   },
   "outputs": [],
   "source": [
    "filenames = os.listdir(train_path)\n",
    "categories = []\n",
    "\n",
    "for filename in filenames:\n",
    "    animaltype = filename.split('.')[0]\n",
    "    categories.append(animaltype)"
   ]
  },
  {
   "cell_type": "markdown",
   "id": "04819a08",
   "metadata": {},
   "source": [
    "## DataFrame 만들기"
   ]
  },
  {
   "cell_type": "code",
   "execution_count": 19,
   "id": "0d5029ea",
   "metadata": {
    "ExecuteTime": {
     "end_time": "2021-07-15T14:52:09.514093Z",
     "start_time": "2021-07-15T14:52:09.482088Z"
    }
   },
   "outputs": [
    {
     "data": {
      "text/html": [
       "<div>\n",
       "<style scoped>\n",
       "    .dataframe tbody tr th:only-of-type {\n",
       "        vertical-align: middle;\n",
       "    }\n",
       "\n",
       "    .dataframe tbody tr th {\n",
       "        vertical-align: top;\n",
       "    }\n",
       "\n",
       "    .dataframe thead th {\n",
       "        text-align: right;\n",
       "    }\n",
       "</style>\n",
       "<table border=\"1\" class=\"dataframe\">\n",
       "  <thead>\n",
       "    <tr style=\"text-align: right;\">\n",
       "      <th></th>\n",
       "      <th>FileName</th>\n",
       "      <th>AnimalType</th>\n",
       "    </tr>\n",
       "  </thead>\n",
       "  <tbody>\n",
       "    <tr>\n",
       "      <th>16404</th>\n",
       "      <td>dog.2261.jpg</td>\n",
       "      <td>dog</td>\n",
       "    </tr>\n",
       "    <tr>\n",
       "      <th>24210</th>\n",
       "      <td>dog.9288.jpg</td>\n",
       "      <td>dog</td>\n",
       "    </tr>\n",
       "    <tr>\n",
       "      <th>2102</th>\n",
       "      <td>cat.1189.jpg</td>\n",
       "      <td>cat</td>\n",
       "    </tr>\n",
       "    <tr>\n",
       "      <th>1988</th>\n",
       "      <td>cat.11787.jpg</td>\n",
       "      <td>cat</td>\n",
       "    </tr>\n",
       "    <tr>\n",
       "      <th>6376</th>\n",
       "      <td>cat.4487.jpg</td>\n",
       "      <td>cat</td>\n",
       "    </tr>\n",
       "  </tbody>\n",
       "</table>\n",
       "</div>"
      ],
      "text/plain": [
       "            FileName AnimalType\n",
       "16404   dog.2261.jpg        dog\n",
       "24210   dog.9288.jpg        dog\n",
       "2102    cat.1189.jpg        cat\n",
       "1988   cat.11787.jpg        cat\n",
       "6376    cat.4487.jpg        cat"
      ]
     },
     "execution_count": 19,
     "metadata": {},
     "output_type": "execute_result"
    }
   ],
   "source": [
    "import pandas as pd\n",
    "\n",
    "dic = {'FileName':filenames, 'AnimalType':categories}\n",
    "df = pd.DataFrame(dic)\n",
    "df.sample(5)"
   ]
  },
  {
   "cell_type": "markdown",
   "id": "3d987a56",
   "metadata": {},
   "source": [
    "## 학습&검증 데이터 나누기"
   ]
  },
  {
   "cell_type": "code",
   "execution_count": 21,
   "id": "164c8194",
   "metadata": {
    "ExecuteTime": {
     "end_time": "2021-07-15T14:55:32.335019Z",
     "start_time": "2021-07-15T14:55:32.310998Z"
    }
   },
   "outputs": [
    {
     "name": "stdout",
     "output_type": "stream",
     "text": [
      "(20000, 2) (5000, 2)\n"
     ]
    }
   ],
   "source": [
    "from sklearn.model_selection import train_test_split\n",
    "\n",
    "train_df, val_df = train_test_split(df, test_size=0.2, random_state=42, shuffle=True)\n",
    "\n",
    "train_df.reset_index(drop=True, inplace=True)\n",
    "val_df.reset_index(drop=True, inplace=True)\n",
    "\n",
    "print(train_df.shape, val_df.shape)"
   ]
  },
  {
   "cell_type": "markdown",
   "id": "bd222527",
   "metadata": {},
   "source": [
    "## 데이터 증식 발생기"
   ]
  },
  {
   "cell_type": "code",
   "execution_count": 23,
   "id": "3371e58a",
   "metadata": {
    "ExecuteTime": {
     "end_time": "2021-07-15T15:04:23.155701Z",
     "start_time": "2021-07-15T15:04:23.139724Z"
    }
   },
   "outputs": [],
   "source": [
    "import tensorflow as tf\n",
    "\n",
    "train_datagen = tf.keras.preprocessing.image.ImageDataGenerator(\n",
    "    rescale=1./255,\n",
    "    rotation_range=30,\n",
    "    width_shift_range=0.1,\n",
    "    height_shift_range=0.1,\n",
    "    shear_range=0.2,\n",
    "    zoom_range=0.2,\n",
    "    horizontal_flip=True,\n",
    "    fill_mode='nearest'\n",
    ")\n",
    "\n",
    "val_datagen = tf.keras.preprocessing.image.ImageDataGenerator( rescale=1./255 )"
   ]
  },
  {
   "cell_type": "code",
   "execution_count": 26,
   "id": "14e67143",
   "metadata": {
    "ExecuteTime": {
     "end_time": "2021-07-15T15:10:58.342109Z",
     "start_time": "2021-07-15T15:10:57.363431Z"
    }
   },
   "outputs": [
    {
     "name": "stdout",
     "output_type": "stream",
     "text": [
      "Found 20000 validated image filenames belonging to 2 classes.\n",
      "Found 5000 validated image filenames belonging to 2 classes.\n"
     ]
    }
   ],
   "source": [
    "aug_train = train_datagen.flow_from_dataframe(\n",
    "    dataframe=train_df,\n",
    "    directory=train_path,\n",
    "    x_col='FileName',\n",
    "    y_col='AnimalType',\n",
    "    target_size=(224, 224),\n",
    "    class_mode='binary',\n",
    "    batch_size=64\n",
    ")\n",
    "\n",
    "aug_val = val_datagen.flow_from_dataframe(\n",
    "    dataframe=val_df,\n",
    "    directory=train_path,\n",
    "    x_col='FileName',\n",
    "    y_col='AnimalType',\n",
    "    target_size=(224, 224),\n",
    "    class_mode='binary',\n",
    "    batch_size=64\n",
    ")"
   ]
  },
  {
   "cell_type": "markdown",
   "id": "2bffc529",
   "metadata": {},
   "source": [
    "## Callbacks 정의"
   ]
  },
  {
   "cell_type": "code",
   "execution_count": 31,
   "id": "b0448410",
   "metadata": {
    "ExecuteTime": {
     "end_time": "2021-07-15T15:23:59.189745Z",
     "start_time": "2021-07-15T15:23:59.173713Z"
    }
   },
   "outputs": [],
   "source": [
    "save_path = './SaveModel/Kaggle_Dogs&Cats.h5'\n",
    "\n",
    "checkpoint = tf.keras.callbacks.ModelCheckpoint(\n",
    "    save_path,\n",
    "    monitor='val_accuracy',\n",
    "    mode='max',\n",
    "    patience=9,\n",
    "    verbose=1,\n",
    "    save_best_only=True\n",
    ")\n",
    "\n",
    "es = tf.keras.callbacks.EarlyStopping(\n",
    "    monitor='val_accuracy',\n",
    "    patience=9,\n",
    "    verbose=1,\n",
    "    mode='max'\n",
    ")\n",
    "\n",
    "rdlr = tf.keras.callbacks.ReduceLROnPlateau(\n",
    "    monitor='val_accuracy',\n",
    "    factor=0.1, # new_lr = lr * factor\n",
    "    patience=4,\n",
    "    verbose=1,\n",
    "    min_lr=0.00001\n",
    ")\n",
    "\n",
    "callbacks = [checkpoint, es, rdlr]"
   ]
  },
  {
   "cell_type": "markdown",
   "id": "051e7d64",
   "metadata": {},
   "source": [
    "## Model 정의"
   ]
  },
  {
   "cell_type": "code",
   "execution_count": 32,
   "id": "c29045df",
   "metadata": {
    "ExecuteTime": {
     "end_time": "2021-07-15T15:34:49.367250Z",
     "start_time": "2021-07-15T15:34:44.299593Z"
    }
   },
   "outputs": [],
   "source": [
    "# kernel_initializer : 가중치 초기화 방식 설정 속성\n",
    "# 종류\n",
    "# LeCun 초기화 (lecun_uniform, lecun_normal) : 98년도에 얀 르쿤이 제기한 방법으로 최근에는 Xavier나 He 초기화 방식에 비해 덜 사용되는 편\n",
    "# Xavier 초기화 (glorot_uniform, glorot_normal) : 케라스에서는 glorot이라는 이름으로 되어있는데, 일반적으로는 Xavier Initialization이라고 알려짐, 논문의 1저자가 Xavier Glorot임\n",
    "# He 초기화 (he_uniform, he_normal) :  Kaiming He가 2015년에 제안한 가장 최신의 초기화 방식으로 수식을 보면 Xavier Initialization을 조금 개선한 것인데, 경험적으로 더 좋은 결과를 내었다고 함\n",
    "\n",
    "model = tf.keras.Sequential([\n",
    "    tf.keras.layers.Conv2D(32, (3, 3), activation='relu', kernel_initializer='he_uniform', padding='same', input_shape=(224, 224, 3))\n",
    "])"
   ]
  },
  {
   "cell_type": "code",
   "execution_count": null,
   "id": "c0236666",
   "metadata": {},
   "outputs": [],
   "source": []
  }
 ],
 "metadata": {
  "kernelspec": {
   "display_name": "test",
   "language": "python",
   "name": "test"
  },
  "language_info": {
   "codemirror_mode": {
    "name": "ipython",
    "version": 3
   },
   "file_extension": ".py",
   "mimetype": "text/x-python",
   "name": "python",
   "nbconvert_exporter": "python",
   "pygments_lexer": "ipython3",
   "version": "3.7.10"
  },
  "toc": {
   "base_numbering": 1,
   "nav_menu": {},
   "number_sections": true,
   "sideBar": true,
   "skip_h1_title": false,
   "title_cell": "Table of Contents",
   "title_sidebar": "Contents",
   "toc_cell": false,
   "toc_position": {},
   "toc_section_display": true,
   "toc_window_display": false
  },
  "varInspector": {
   "cols": {
    "lenName": 16,
    "lenType": 16,
    "lenVar": 40
   },
   "kernels_config": {
    "python": {
     "delete_cmd_postfix": "",
     "delete_cmd_prefix": "del ",
     "library": "var_list.py",
     "varRefreshCmd": "print(var_dic_list())"
    },
    "r": {
     "delete_cmd_postfix": ") ",
     "delete_cmd_prefix": "rm(",
     "library": "var_list.r",
     "varRefreshCmd": "cat(var_dic_list()) "
    }
   },
   "types_to_exclude": [
    "module",
    "function",
    "builtin_function_or_method",
    "instance",
    "_Feature"
   ],
   "window_display": false
  }
 },
 "nbformat": 4,
 "nbformat_minor": 5
}
